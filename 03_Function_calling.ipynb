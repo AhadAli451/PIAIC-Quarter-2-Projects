{
  "nbformat": 4,
  "nbformat_minor": 0,
  "metadata": {
    "colab": {
      "provenance": [],
      "authorship_tag": "ABX9TyPqW9BdhSgRGKEiUJS0r1AP",
      "include_colab_link": true
    },
    "kernelspec": {
      "name": "python3",
      "display_name": "Python 3"
    },
    "language_info": {
      "name": "python"
    }
  },
  "cells": [
    {
      "cell_type": "markdown",
      "metadata": {
        "id": "view-in-github",
        "colab_type": "text"
      },
      "source": [
        "<a href=\"https://colab.research.google.com/github/AhadAli451/PIAIC-Quarter-2-Projects/blob/main/03_Function_calling.ipynb\" target=\"_parent\"><img src=\"https://colab.research.google.com/assets/colab-badge.svg\" alt=\"Open In Colab\"/></a>"
      ]
    },
    {
      "cell_type": "code",
      "execution_count": 39,
      "metadata": {
        "id": "4wsm9wiORomA"
      },
      "outputs": [],
      "source": [
        "!pip install -U -q \"google-generativeai>=0.7.2\""
      ]
    },
    {
      "cell_type": "code",
      "source": [
        "from google.colab import userdata\n",
        "import google.generativeai as genai\n",
        "\n",
        "genai.configure(api_key=userdata.get(\"GOOGLE_API_KEY\"))"
      ],
      "metadata": {
        "id": "ACZO1LthRw1Y"
      },
      "execution_count": 40,
      "outputs": []
    },
    {
      "cell_type": "code",
      "source": [
        "def enable_fan():\n",
        "    \"\"\"Turn on the fan system.\"\"\"\n",
        "    print(\"FANBOT: Fan enabled.\")\n",
        "\n",
        "\n",
        "def set_fan_speed(speed_level: int):\n",
        "    \"\"\"Set the fan speed. Fan must be enabled for this to work.\n",
        "\n",
        "    Args:\n",
        "        speed_level (int): The speed level to set, typically between 1 and 5.\n",
        "    \"\"\"\n",
        "    print(f\"FANBOT: Fan speed set to level {speed_level}.\")\n",
        "\n",
        "\n",
        "def stop_fan():\n",
        "    \"\"\"Turn off the fan.\"\"\"\n",
        "    print(\"FANBOT: Fan turned off.\")\n",
        "\n",
        "\n",
        "fan_controls = [enable_fan, set_fan_speed, stop_fan]\n",
        "instruction = \"You are a helpful fan system bot. You can turn the fan on and off, and you can set the speed. Do not perform any other tasks.\"\n",
        "\n",
        "model = genai.GenerativeModel(\n",
        "    \"models/gemini-1.5-pro\",\n",
        "    tools=fan_controls,\n",
        "    system_instruction=instruction\n",
        ")\n",
        "\n",
        "chat = model.start_chat()"
      ],
      "metadata": {
        "id": "nNCBy20pR1gl"
      },
      "execution_count": 41,
      "outputs": []
    },
    {
      "cell_type": "code",
      "source": [
        "from google.generativeai.types import content_types\n",
        "from collections.abc import Iterable\n",
        "\n",
        "\n",
        "def tool_config_from_mode(mode: str, fns: Iterable[str] = ()):\n",
        "    \"\"\"Create a tool config with the specified function calling mode.\"\"\"\n",
        "    return content_types.to_tool_config(\n",
        "        {\"function_calling_config\": {\"mode\": mode, \"allowed_function_names\": fns}}\n",
        "    )"
      ],
      "metadata": {
        "id": "J63IZhGNVttR"
      },
      "execution_count": 42,
      "outputs": []
    },
    {
      "cell_type": "code",
      "source": [
        "tool_config = tool_config_from_mode(\"none\")\n",
        "\n",
        "response = chat.send_message(\n",
        "    \"Hello fan-bot, what can you do?\", tool_config=tool_config\n",
        ")\n",
        "print(response.text)"
      ],
      "metadata": {
        "colab": {
          "base_uri": "https://localhost:8080/",
          "height": 52
        },
        "id": "w3aJuNOjVwrC",
        "outputId": "9e0d3c9c-adf4-41af-ab59-959f34243c19"
      },
      "execution_count": 43,
      "outputs": [
        {
          "output_type": "stream",
          "name": "stdout",
          "text": [
            "I can turn the fan on and off, and I can set the fan speed.\n",
            "\n"
          ]
        }
      ]
    },
    {
      "cell_type": "code",
      "source": [
        "tool_config = tool_config_from_mode(\"auto\")\n",
        "\n",
        "response = chat.send_message(\"on the fan!\", tool_config=tool_config)\n",
        "# print(response.parts[0])\n",
        "# chat.rewind();  # You are not actually calling the function, so remove this from the history."
      ],
      "metadata": {
        "id": "AI9LKB1CV9R9"
      },
      "execution_count": 45,
      "outputs": []
    },
    {
      "cell_type": "code",
      "source": [
        "print(response.parts[0])\n",
        "chat.rewind();  # You are not actually calling the function, so remove this from the history."
      ],
      "metadata": {
        "colab": {
          "base_uri": "https://localhost:8080/"
        },
        "id": "ZVFFEqovWMrN",
        "outputId": "b12ca66b-f863-4fa6-f914-14a3a991b4e9"
      },
      "execution_count": 46,
      "outputs": [
        {
          "output_type": "stream",
          "name": "stdout",
          "text": [
            "function_call {\n",
            "  name: \"enable_fan\"\n",
            "  args {\n",
            "  }\n",
            "}\n",
            "\n"
          ]
        }
      ]
    },
    {
      "cell_type": "code",
      "source": [
        "available_fns = [\"set_fan_speed\", \"stop_fan\"]\n",
        "\n",
        "tool_config = tool_config_from_mode(\"any\", available_fns)\n",
        "\n",
        "response = chat.send_message(\"set the speed of fan\", tool_config=tool_config)\n",
        "print(response.parts[0])"
      ],
      "metadata": {
        "colab": {
          "base_uri": "https://localhost:8080/",
          "height": 225
        },
        "id": "PCe97q4dWYpA",
        "outputId": "a92c4ea7-5e26-46fb-f62f-4d905d95a1be"
      },
      "execution_count": 47,
      "outputs": [
        {
          "output_type": "stream",
          "name": "stdout",
          "text": [
            "function_call {\n",
            "  name: \"set_fan_speed\"\n",
            "  args {\n",
            "    fields {\n",
            "      key: \"speed_level\"\n",
            "      value {\n",
            "        number_value: 3\n",
            "      }\n",
            "    }\n",
            "  }\n",
            "}\n",
            "\n"
          ]
        }
      ]
    },
    {
      "cell_type": "code",
      "source": [
        "# available_fns = [\"enable_lights\"]\n",
        "available_fns = [\"enable_fan\",\"set_fan_speed\", \"stop_fan\"]\n",
        "tool_config = tool_config_from_mode(\"any\", available_fns)\n",
        "\n",
        "auto_chat = model.start_chat(enable_automatic_function_calling=True)\n",
        "response = auto_chat.send_message(\"the room temperature is very high set the speed of fan and then stop fan\", tool_config=tool_config)"
      ],
      "metadata": {
        "colab": {
          "base_uri": "https://localhost:8080/",
          "height": 69
        },
        "id": "rAKGu7fJXY8w",
        "outputId": "89f9a474-36b1-4a8d-cbad-4496664dd32a"
      },
      "execution_count": 48,
      "outputs": [
        {
          "output_type": "stream",
          "name": "stdout",
          "text": [
            "FANBOT: Fan enabled.\n",
            "FANBOT: Fan speed set to level 3.0.\n",
            "FANBOT: Fan turned off.\n"
          ]
        }
      ]
    }
  ]
}